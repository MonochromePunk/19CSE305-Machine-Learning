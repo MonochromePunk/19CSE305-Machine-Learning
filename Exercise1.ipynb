{
  "nbformat": 4,
  "nbformat_minor": 0,
  "metadata": {
    "colab": {
      "provenance": [],
      "authorship_tag": "ABX9TyO0FdxQ/KliCoaeXv70TTiY",
      "include_colab_link": true
    },
    "kernelspec": {
      "name": "python3",
      "display_name": "Python 3"
    },
    "language_info": {
      "name": "python"
    }
  },
  "cells": [
    {
      "cell_type": "markdown",
      "metadata": {
        "id": "view-in-github",
        "colab_type": "text"
      },
      "source": [
        "<a href=\"https://colab.research.google.com/github/MonochromePunk/19CSE305-Machine-Learning/blob/main/Exercise1.ipynb\" target=\"_parent\"><img src=\"https://colab.research.google.com/assets/colab-badge.svg\" alt=\"Open In Colab\"/></a>"
      ]
    },
    {
      "cell_type": "code",
      "execution_count": 1,
      "metadata": {
        "id": "RnPadgs4u5DN",
        "colab": {
          "base_uri": "https://localhost:8080/"
        },
        "outputId": "d07242d0-ff37-4997-ef9a-b4156b87ee27"
      },
      "outputs": [
        {
          "output_type": "stream",
          "name": "stdout",
          "text": [
            "Hello All !\n"
          ]
        }
      ],
      "source": [
        "print(\"Hello All !\")"
      ]
    },
    {
      "cell_type": "code",
      "source": [],
      "metadata": {
        "id": "HbJMkJ1-wBha"
      },
      "execution_count": null,
      "outputs": []
    }
  ]
}